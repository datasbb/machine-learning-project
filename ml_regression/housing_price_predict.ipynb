{
 "cells": [
  {
   "cell_type": "markdown",
   "metadata": {},
   "source": [
    "![nn](img/housing_dataset_img.jpg)"
   ]
  },
  {
   "cell_type": "markdown",
   "metadata": {},
   "source": [
    "## [머신러닝] Kaggle - 주택 가격 예측 (회귀, Regression)\n",
    " - 분석 결과 파일 : ml_regression/housing_price_predict.ipynb <br><br>\n",
    "\n",
    "> #### Housing Price Prediction Dataset  <br>\n",
    "- 데이터는 다음의 링크에서 확인할 수 있습니다. → [링크](https://www.kaggle.com/datasets/muhammadbinimran/housing-price-prediction-data) <br><br>\n",
    "\n",
    "> #### 다음 6개의 변수를 가지고 있으며 `Price`를 예측하는 것이 목적입니다.<br>\n",
    "- `SquareFeet` : 평방미터(평수)<br>\n",
    "- `Bedrooms` : 침실(수)<br>\n",
    "- `Bathrooms` : 욕실(수)<br>\n",
    "- `Neighborhood` : 동네 유형(Rural, Suburb, Urban)<br>\n",
    "- `YearBuilt` : 건설 연도<br>\n",
    "- `Price` : 주택 가격 <br>\n",
    "\n",
    "> #### 사용한 Model (6개):\n",
    "- 선형회귀 : LinearRegression, Lasso <br>\n",
    "- 앙상블모델 : RandomForestRegressor, GradientBoostingRegressor, xgboost <br>\n",
    "- 거리 기반 : k-NN <br><br>\n",
    "\n",
    "> #### 성능 평가 지표 :\n",
    "- R-Squared, RMSE\n"
   ]
  },
  {
   "cell_type": "markdown",
   "metadata": {},
   "source": [
    "> #### 결과 요약\n",
    "- 주택 가격의 단위가 크기 때문에 정확한 예측은 어려우나 앞2자리는 유사하게 예측한 것을 확인할 수 있었습니다.<br>\n",
    "- 가장 성능이 좋았던 모델은 선형 회귀(Linear Regression)로 다음과 같은 성능을 보입니다.<br>\n",
    "      (R2는 1에 가까울수록, RMSE는 0에 가까울수록 성능이 좋음)<br>\n",
    "    - R2_score: 0.5692276886706162    |    RMSE: 49972.695984341706 <br>\n",
    "- 상관관계 분석을 통해 가격(Price)에 평수(SquareFeet)가 0.75로 유의미한 관계가 있었고 나머지는 관계가 적었습니다.<br>\n",
    "- 이 부분의 영향으로 예측 성능이 낮았을 것으로 판단됩니다. <br>\n",
    "\n",
    "> #### 성능 추가 개선을 위한 방법\n",
    "- 모델 측면 :\n",
    "   - 여러 모델을 적용하여 가장 좋은 성능을 보이는 모델을 선택합니다.\n",
    "   - k-Fold(교차검증) 등을 이용하여 데이터에 알맞는 기법을 선택해볼 수 있습니다.\n",
    "   - 하이퍼 파라미터 튜닝(n_estimator, learning rate)/그리드 서치 등을 이용하여 최적의 파라미터를 찾는 방법을 사용할 수 있습니다.\n",
    "- 데이터 측면 :\n",
    "   - 가격 결정에 유의미한 데이터를 좀 더 추가할 수 있습니다(크롤링, 외부데이터 추가 수집 등).\n",
    "   - 데이터 스케일링(Data Scaling), 표준화(Standardization) 등을 통해 데이터를 공통된 범위로 조정할 수 있습니다."
   ]
  },
  {
   "cell_type": "markdown",
   "metadata": {},
   "source": [
    "# 1. 라이브러리 import & 데이터 Load"
   ]
  },
  {
   "cell_type": "code",
   "execution_count": 1,
   "metadata": {},
   "outputs": [],
   "source": [
    "import pandas as pd\n",
    "import matplotlib.pyplot as plt\n",
    "import seaborn as sns\n",
    "from sklearn.preprocessing import LabelEncoder\n",
    "from sklearn.model_selection import train_test_split\n",
    "from sklearn.linear_model import LinearRegression, Lasso\n",
    "from sklearn.ensemble import RandomForestRegressor, GradientBoostingRegressor\n",
    "from sklearn.neighbors import KNeighborsRegressor\n",
    "from xgboost import XGBRegressor\n",
    "from sklearn.metrics import r2_score, mean_squared_error\n",
    "import warnings\n",
    "warnings.filterwarnings(\"ignore\")"
   ]
  },
  {
   "cell_type": "code",
   "execution_count": 2,
   "metadata": {},
   "outputs": [
    {
     "data": {
      "text/html": [
       "<div>\n",
       "<style scoped>\n",
       "    .dataframe tbody tr th:only-of-type {\n",
       "        vertical-align: middle;\n",
       "    }\n",
       "\n",
       "    .dataframe tbody tr th {\n",
       "        vertical-align: top;\n",
       "    }\n",
       "\n",
       "    .dataframe thead th {\n",
       "        text-align: right;\n",
       "    }\n",
       "</style>\n",
       "<table border=\"1\" class=\"dataframe\">\n",
       "  <thead>\n",
       "    <tr style=\"text-align: right;\">\n",
       "      <th></th>\n",
       "      <th>SquareFeet</th>\n",
       "      <th>Bedrooms</th>\n",
       "      <th>Bathrooms</th>\n",
       "      <th>Neighborhood</th>\n",
       "      <th>YearBuilt</th>\n",
       "      <th>Price</th>\n",
       "    </tr>\n",
       "  </thead>\n",
       "  <tbody>\n",
       "    <tr>\n",
       "      <th>0</th>\n",
       "      <td>2126</td>\n",
       "      <td>4</td>\n",
       "      <td>1</td>\n",
       "      <td>Rural</td>\n",
       "      <td>1969</td>\n",
       "      <td>215355.283618</td>\n",
       "    </tr>\n",
       "    <tr>\n",
       "      <th>1</th>\n",
       "      <td>2459</td>\n",
       "      <td>3</td>\n",
       "      <td>2</td>\n",
       "      <td>Rural</td>\n",
       "      <td>1980</td>\n",
       "      <td>195014.221626</td>\n",
       "    </tr>\n",
       "    <tr>\n",
       "      <th>2</th>\n",
       "      <td>1860</td>\n",
       "      <td>2</td>\n",
       "      <td>1</td>\n",
       "      <td>Suburb</td>\n",
       "      <td>1970</td>\n",
       "      <td>306891.012076</td>\n",
       "    </tr>\n",
       "    <tr>\n",
       "      <th>3</th>\n",
       "      <td>2294</td>\n",
       "      <td>2</td>\n",
       "      <td>1</td>\n",
       "      <td>Urban</td>\n",
       "      <td>1996</td>\n",
       "      <td>206786.787153</td>\n",
       "    </tr>\n",
       "    <tr>\n",
       "      <th>4</th>\n",
       "      <td>2130</td>\n",
       "      <td>5</td>\n",
       "      <td>2</td>\n",
       "      <td>Suburb</td>\n",
       "      <td>2001</td>\n",
       "      <td>272436.239065</td>\n",
       "    </tr>\n",
       "  </tbody>\n",
       "</table>\n",
       "</div>"
      ],
      "text/plain": [
       "   SquareFeet  Bedrooms  Bathrooms Neighborhood  YearBuilt          Price\n",
       "0        2126         4          1        Rural       1969  215355.283618\n",
       "1        2459         3          2        Rural       1980  195014.221626\n",
       "2        1860         2          1       Suburb       1970  306891.012076\n",
       "3        2294         2          1        Urban       1996  206786.787153\n",
       "4        2130         5          2       Suburb       2001  272436.239065"
      ]
     },
     "execution_count": 2,
     "metadata": {},
     "output_type": "execute_result"
    }
   ],
   "source": [
    "df = pd.read_csv('housing_price_dataset.csv')\n",
    "df.head()"
   ]
  },
  {
   "cell_type": "markdown",
   "metadata": {},
   "source": [
    "# 2. EDA (Exploratory Data Analysis)"
   ]
  },
  {
   "cell_type": "code",
   "execution_count": 3,
   "metadata": {},
   "outputs": [
    {
     "name": "stdout",
     "output_type": "stream",
     "text": [
      "<class 'pandas.core.frame.DataFrame'>\n",
      "RangeIndex: 50000 entries, 0 to 49999\n",
      "Data columns (total 6 columns):\n",
      " #   Column        Non-Null Count  Dtype  \n",
      "---  ------        --------------  -----  \n",
      " 0   SquareFeet    50000 non-null  int64  \n",
      " 1   Bedrooms      50000 non-null  int64  \n",
      " 2   Bathrooms     50000 non-null  int64  \n",
      " 3   Neighborhood  50000 non-null  object \n",
      " 4   YearBuilt     50000 non-null  int64  \n",
      " 5   Price         50000 non-null  float64\n",
      "dtypes: float64(1), int64(4), object(1)\n",
      "memory usage: 2.3+ MB\n"
     ]
    }
   ],
   "source": [
    "df.info()"
   ]
  },
  {
   "cell_type": "code",
   "execution_count": 4,
   "metadata": {},
   "outputs": [
    {
     "data": {
      "text/plain": [
       "SquareFeet      0\n",
       "Bedrooms        0\n",
       "Bathrooms       0\n",
       "Neighborhood    0\n",
       "YearBuilt       0\n",
       "Price           0\n",
       "dtype: int64"
      ]
     },
     "execution_count": 4,
     "metadata": {},
     "output_type": "execute_result"
    }
   ],
   "source": [
    "# 모든 변수 결측치 확인\n",
    "df.isnull().sum()"
   ]
  },
  {
   "cell_type": "code",
   "execution_count": 5,
   "metadata": {},
   "outputs": [
    {
     "data": {
      "text/plain": [
       "Neighborhood\n",
       "Suburb    16721\n",
       "Rural     16676\n",
       "Urban     16603\n",
       "Name: count, dtype: int64"
      ]
     },
     "execution_count": 5,
     "metadata": {},
     "output_type": "execute_result"
    }
   ],
   "source": [
    "# object 타입(동네 유형) value 개수\n",
    "df['Neighborhood'].value_counts()"
   ]
  },
  {
   "cell_type": "code",
   "execution_count": 6,
   "metadata": {},
   "outputs": [
    {
     "data": {
      "image/png": "[encoded data removed]",
      "text/plain": [
       "<Figure size 500x500 with 1 Axes>"
      ]
     },
     "metadata": {},
     "output_type": "display_data"
    }
   ],
   "source": [
    "# Pie Chart로 확인\n",
    "plt.figure(figsize=(5, 5))\n",
    "explode = [0.03, 0.03, 0.03]\n",
    "colors = ['#9BB8CD', '#FFF7D4', '#EEC759']\n",
    "\n",
    "plt.pie(df[\"Neighborhood\"].value_counts(), labels=df[\"Neighborhood\"].value_counts().index, autopct='%1.1f%%', startangle=90, explode=explode, colors=colors, shadow=True)\n",
    "plt.title('Type of Neighborhoods')\n",
    "plt.show()"
   ]
  },
  {
   "cell_type": "code",
   "execution_count": 7,
   "metadata": {},
   "outputs": [
    {
     "data": {
      "image/png": "[encoded data removed]",
      "text/plain": [
       "<Figure size 640x480 with 1 Axes>"
      ]
     },
     "metadata": {},
     "output_type": "display_data"
    }
   ],
   "source": [
    "# Price 분포 확인\n",
    "plt.boxplot(df[\"Price\"])\n",
    "plt.title('Price')\n",
    "plt.show()"
   ]
  },
  {
   "cell_type": "code",
   "execution_count": 8,
   "metadata": {},
   "outputs": [
    {
     "data": {
      "text/html": [
       "<div>\n",
       "<style scoped>\n",
       "    .dataframe tbody tr th:only-of-type {\n",
       "        vertical-align: middle;\n",
       "    }\n",
       "\n",
       "    .dataframe tbody tr th {\n",
       "        vertical-align: top;\n",
       "    }\n",
       "\n",
       "    .dataframe thead th {\n",
       "        text-align: right;\n",
       "    }\n",
       "</style>\n",
       "<table border=\"1\" class=\"dataframe\">\n",
       "  <thead>\n",
       "    <tr style=\"text-align: right;\">\n",
       "      <th></th>\n",
       "      <th>SquareFeet</th>\n",
       "      <th>Bedrooms</th>\n",
       "      <th>Bathrooms</th>\n",
       "      <th>YearBuilt</th>\n",
       "      <th>Price</th>\n",
       "    </tr>\n",
       "  </thead>\n",
       "  <tbody>\n",
       "    <tr>\n",
       "      <th>count</th>\n",
       "      <td>50000.000000</td>\n",
       "      <td>50000.000000</td>\n",
       "      <td>50000.000000</td>\n",
       "      <td>50000.000000</td>\n",
       "      <td>50000.000000</td>\n",
       "    </tr>\n",
       "    <tr>\n",
       "      <th>mean</th>\n",
       "      <td>2006.374680</td>\n",
       "      <td>3.498700</td>\n",
       "      <td>1.995420</td>\n",
       "      <td>1985.404420</td>\n",
       "      <td>224827.325151</td>\n",
       "    </tr>\n",
       "    <tr>\n",
       "      <th>std</th>\n",
       "      <td>575.513241</td>\n",
       "      <td>1.116326</td>\n",
       "      <td>0.815851</td>\n",
       "      <td>20.719377</td>\n",
       "      <td>76141.842966</td>\n",
       "    </tr>\n",
       "    <tr>\n",
       "      <th>min</th>\n",
       "      <td>1000.000000</td>\n",
       "      <td>2.000000</td>\n",
       "      <td>1.000000</td>\n",
       "      <td>1950.000000</td>\n",
       "      <td>-36588.165397</td>\n",
       "    </tr>\n",
       "    <tr>\n",
       "      <th>25%</th>\n",
       "      <td>1513.000000</td>\n",
       "      <td>3.000000</td>\n",
       "      <td>1.000000</td>\n",
       "      <td>1967.000000</td>\n",
       "      <td>169955.860225</td>\n",
       "    </tr>\n",
       "    <tr>\n",
       "      <th>50%</th>\n",
       "      <td>2007.000000</td>\n",
       "      <td>3.000000</td>\n",
       "      <td>2.000000</td>\n",
       "      <td>1985.000000</td>\n",
       "      <td>225052.141166</td>\n",
       "    </tr>\n",
       "    <tr>\n",
       "      <th>75%</th>\n",
       "      <td>2506.000000</td>\n",
       "      <td>4.000000</td>\n",
       "      <td>3.000000</td>\n",
       "      <td>2003.000000</td>\n",
       "      <td>279373.630052</td>\n",
       "    </tr>\n",
       "    <tr>\n",
       "      <th>max</th>\n",
       "      <td>2999.000000</td>\n",
       "      <td>5.000000</td>\n",
       "      <td>3.000000</td>\n",
       "      <td>2021.000000</td>\n",
       "      <td>492195.259972</td>\n",
       "    </tr>\n",
       "  </tbody>\n",
       "</table>\n",
       "</div>"
      ],
      "text/plain": [
       "         SquareFeet      Bedrooms     Bathrooms     YearBuilt          Price\n",
       "count  50000.000000  50000.000000  50000.000000  50000.000000   50000.000000\n",
       "mean    2006.374680      3.498700      1.995420   1985.404420  224827.325151\n",
       "std      575.513241      1.116326      0.815851     20.719377   76141.842966\n",
       "min     1000.000000      2.000000      1.000000   1950.000000  -36588.165397\n",
       "25%     1513.000000      3.000000      1.000000   1967.000000  169955.860225\n",
       "50%     2007.000000      3.000000      2.000000   1985.000000  225052.141166\n",
       "75%     2506.000000      4.000000      3.000000   2003.000000  279373.630052\n",
       "max     2999.000000      5.000000      3.000000   2021.000000  492195.259972"
      ]
     },
     "execution_count": 8,
     "metadata": {},
     "output_type": "execute_result"
    }
   ],
   "source": [
    "# 데이터 전체 통계\n",
    "df.describe()"
   ]
  },
  {
   "cell_type": "markdown",
   "metadata": {},
   "source": [
    "## 3. 데이터 전처리"
   ]
  },
  {
   "cell_type": "code",
   "execution_count": 9,
   "metadata": {},
   "outputs": [
    {
     "data": {
      "text/html": [
       "<div>\n",
       "<style scoped>\n",
       "    .dataframe tbody tr th:only-of-type {\n",
       "        vertical-align: middle;\n",
       "    }\n",
       "\n",
       "    .dataframe tbody tr th {\n",
       "        vertical-align: top;\n",
       "    }\n",
       "\n",
       "    .dataframe thead th {\n",
       "        text-align: right;\n",
       "    }\n",
       "</style>\n",
       "<table border=\"1\" class=\"dataframe\">\n",
       "  <thead>\n",
       "    <tr style=\"text-align: right;\">\n",
       "      <th></th>\n",
       "      <th>SquareFeet</th>\n",
       "      <th>Bedrooms</th>\n",
       "      <th>Bathrooms</th>\n",
       "      <th>Neighborhood</th>\n",
       "      <th>YearBuilt</th>\n",
       "      <th>Price</th>\n",
       "    </tr>\n",
       "  </thead>\n",
       "  <tbody>\n",
       "    <tr>\n",
       "      <th>0</th>\n",
       "      <td>2126</td>\n",
       "      <td>4</td>\n",
       "      <td>1</td>\n",
       "      <td>0</td>\n",
       "      <td>1969</td>\n",
       "      <td>215355.283618</td>\n",
       "    </tr>\n",
       "    <tr>\n",
       "      <th>1</th>\n",
       "      <td>2459</td>\n",
       "      <td>3</td>\n",
       "      <td>2</td>\n",
       "      <td>0</td>\n",
       "      <td>1980</td>\n",
       "      <td>195014.221626</td>\n",
       "    </tr>\n",
       "    <tr>\n",
       "      <th>2</th>\n",
       "      <td>1860</td>\n",
       "      <td>2</td>\n",
       "      <td>1</td>\n",
       "      <td>1</td>\n",
       "      <td>1970</td>\n",
       "      <td>306891.012076</td>\n",
       "    </tr>\n",
       "    <tr>\n",
       "      <th>3</th>\n",
       "      <td>2294</td>\n",
       "      <td>2</td>\n",
       "      <td>1</td>\n",
       "      <td>2</td>\n",
       "      <td>1996</td>\n",
       "      <td>206786.787153</td>\n",
       "    </tr>\n",
       "    <tr>\n",
       "      <th>4</th>\n",
       "      <td>2130</td>\n",
       "      <td>5</td>\n",
       "      <td>2</td>\n",
       "      <td>1</td>\n",
       "      <td>2001</td>\n",
       "      <td>272436.239065</td>\n",
       "    </tr>\n",
       "  </tbody>\n",
       "</table>\n",
       "</div>"
      ],
      "text/plain": [
       "   SquareFeet  Bedrooms  Bathrooms  Neighborhood  YearBuilt          Price\n",
       "0        2126         4          1             0       1969  215355.283618\n",
       "1        2459         3          2             0       1980  195014.221626\n",
       "2        1860         2          1             1       1970  306891.012076\n",
       "3        2294         2          1             2       1996  206786.787153\n",
       "4        2130         5          2             1       2001  272436.239065"
      ]
     },
     "execution_count": 9,
     "metadata": {},
     "output_type": "execute_result"
    }
   ],
   "source": [
    "# 라벨인코딩 (object -> int형 변환)\n",
    "LabelEncoder = LabelEncoder()\n",
    "df['Neighborhood'] = LabelEncoder.fit_transform(df['Neighborhood'])\n",
    "df.head()"
   ]
  },
  {
   "cell_type": "code",
   "execution_count": 10,
   "metadata": {},
   "outputs": [],
   "source": [
    "# 원핫인코딩으로 진행 시\n",
    "# df = pd.get_dummies(df, dtype=int)\n",
    "# df.head()"
   ]
  },
  {
   "cell_type": "code",
   "execution_count": 11,
   "metadata": {},
   "outputs": [
    {
     "data": {
      "text/html": [
       "<div>\n",
       "<style scoped>\n",
       "    .dataframe tbody tr th:only-of-type {\n",
       "        vertical-align: middle;\n",
       "    }\n",
       "\n",
       "    .dataframe tbody tr th {\n",
       "        vertical-align: top;\n",
       "    }\n",
       "\n",
       "    .dataframe thead th {\n",
       "        text-align: right;\n",
       "    }\n",
       "</style>\n",
       "<table border=\"1\" class=\"dataframe\">\n",
       "  <thead>\n",
       "    <tr style=\"text-align: right;\">\n",
       "      <th></th>\n",
       "      <th>SquareFeet</th>\n",
       "      <th>Bedrooms</th>\n",
       "      <th>Bathrooms</th>\n",
       "      <th>Neighborhood</th>\n",
       "      <th>YearBuilt</th>\n",
       "      <th>Price</th>\n",
       "    </tr>\n",
       "  </thead>\n",
       "  <tbody>\n",
       "    <tr>\n",
       "      <th>SquareFeet</th>\n",
       "      <td>1.000000</td>\n",
       "      <td>-0.002638</td>\n",
       "      <td>-0.003275</td>\n",
       "      <td>0.011186</td>\n",
       "      <td>0.000482</td>\n",
       "      <td>0.750720</td>\n",
       "    </tr>\n",
       "    <tr>\n",
       "      <th>Bedrooms</th>\n",
       "      <td>-0.002638</td>\n",
       "      <td>1.000000</td>\n",
       "      <td>0.007405</td>\n",
       "      <td>-0.004208</td>\n",
       "      <td>0.003147</td>\n",
       "      <td>0.072624</td>\n",
       "    </tr>\n",
       "    <tr>\n",
       "      <th>Bathrooms</th>\n",
       "      <td>-0.003275</td>\n",
       "      <td>0.007405</td>\n",
       "      <td>1.000000</td>\n",
       "      <td>0.001613</td>\n",
       "      <td>0.003748</td>\n",
       "      <td>0.028418</td>\n",
       "    </tr>\n",
       "    <tr>\n",
       "      <th>Neighborhood</th>\n",
       "      <td>0.011186</td>\n",
       "      <td>-0.004208</td>\n",
       "      <td>0.001613</td>\n",
       "      <td>1.000000</td>\n",
       "      <td>-0.000174</td>\n",
       "      <td>0.016429</td>\n",
       "    </tr>\n",
       "    <tr>\n",
       "      <th>YearBuilt</th>\n",
       "      <td>0.000482</td>\n",
       "      <td>0.003147</td>\n",
       "      <td>0.003748</td>\n",
       "      <td>-0.000174</td>\n",
       "      <td>1.000000</td>\n",
       "      <td>-0.002288</td>\n",
       "    </tr>\n",
       "    <tr>\n",
       "      <th>Price</th>\n",
       "      <td>0.750720</td>\n",
       "      <td>0.072624</td>\n",
       "      <td>0.028418</td>\n",
       "      <td>0.016429</td>\n",
       "      <td>-0.002288</td>\n",
       "      <td>1.000000</td>\n",
       "    </tr>\n",
       "  </tbody>\n",
       "</table>\n",
       "</div>"
      ],
      "text/plain": [
       "              SquareFeet  Bedrooms  Bathrooms  Neighborhood  YearBuilt  \\\n",
       "SquareFeet      1.000000 -0.002638  -0.003275      0.011186   0.000482   \n",
       "Bedrooms       -0.002638  1.000000   0.007405     -0.004208   0.003147   \n",
       "Bathrooms      -0.003275  0.007405   1.000000      0.001613   0.003748   \n",
       "Neighborhood    0.011186 -0.004208   0.001613      1.000000  -0.000174   \n",
       "YearBuilt       0.000482  0.003147   0.003748     -0.000174   1.000000   \n",
       "Price           0.750720  0.072624   0.028418      0.016429  -0.002288   \n",
       "\n",
       "                 Price  \n",
       "SquareFeet    0.750720  \n",
       "Bedrooms      0.072624  \n",
       "Bathrooms     0.028418  \n",
       "Neighborhood  0.016429  \n",
       "YearBuilt    -0.002288  \n",
       "Price         1.000000  "
      ]
     },
     "execution_count": 11,
     "metadata": {},
     "output_type": "execute_result"
    }
   ],
   "source": [
    "# 변수 간 상관관계 확인\n",
    "df.corr()"
   ]
  },
  {
   "cell_type": "code",
   "execution_count": 12,
   "metadata": {},
   "outputs": [
    {
     "data": {
      "text/plain": [
       "<Axes: >"
      ]
     },
     "execution_count": 12,
     "metadata": {},
     "output_type": "execute_result"
    },
    {
     "data": {
      "image/png": "[encoded data removed]",
      "text/plain": [
       "<Figure size 500x500 with 2 Axes>"
      ]
     },
     "metadata": {},
     "output_type": "display_data"
    }
   ],
   "source": [
    "# Heatmap으로 상관관계 확인 \n",
    "plt.rcParams['figure.figsize'] = (5, 5)\n",
    "sns.heatmap(df.corr(), annot=True, annot_kws={'size': 7}, fmt='.5f', cmap='RdPu')"
   ]
  },
  {
   "cell_type": "markdown",
   "metadata": {},
   "source": [
    "## 4. 모델 학습 & 성능 평가"
   ]
  },
  {
   "cell_type": "code",
   "execution_count": 13,
   "metadata": {},
   "outputs": [
    {
     "name": "stdout",
     "output_type": "stream",
     "text": [
      "(40000, 5) (10000, 5) (40000,) (10000,)\n"
     ]
    }
   ],
   "source": [
    "# 데이터 Train, Test 나누기\n",
    "X_train, X_test, y_train, y_test = train_test_split(\n",
    "    df.drop('Price', axis=1), df['Price'], test_size=0.2, random_state=1234\n",
    ")\n",
    "print(X_train.shape, X_test.shape, y_train.shape, y_test.shape)"
   ]
  },
  {
   "cell_type": "code",
   "execution_count": 14,
   "metadata": {},
   "outputs": [
    {
     "data": {
      "text/html": [
       "<div>\n",
       "<style scoped>\n",
       "    .dataframe tbody tr th:only-of-type {\n",
       "        vertical-align: middle;\n",
       "    }\n",
       "\n",
       "    .dataframe tbody tr th {\n",
       "        vertical-align: top;\n",
       "    }\n",
       "\n",
       "    .dataframe thead th {\n",
       "        text-align: right;\n",
       "    }\n",
       "</style>\n",
       "<table border=\"1\" class=\"dataframe\">\n",
       "  <thead>\n",
       "    <tr style=\"text-align: right;\">\n",
       "      <th></th>\n",
       "      <th>SquareFeet</th>\n",
       "      <th>Bedrooms</th>\n",
       "      <th>Bathrooms</th>\n",
       "      <th>Neighborhood</th>\n",
       "      <th>YearBuilt</th>\n",
       "    </tr>\n",
       "  </thead>\n",
       "  <tbody>\n",
       "    <tr>\n",
       "      <th>37174</th>\n",
       "      <td>2714</td>\n",
       "      <td>4</td>\n",
       "      <td>1</td>\n",
       "      <td>1</td>\n",
       "      <td>1969</td>\n",
       "    </tr>\n",
       "    <tr>\n",
       "      <th>29950</th>\n",
       "      <td>1333</td>\n",
       "      <td>2</td>\n",
       "      <td>2</td>\n",
       "      <td>0</td>\n",
       "      <td>1997</td>\n",
       "    </tr>\n",
       "    <tr>\n",
       "      <th>49833</th>\n",
       "      <td>2542</td>\n",
       "      <td>5</td>\n",
       "      <td>2</td>\n",
       "      <td>1</td>\n",
       "      <td>1969</td>\n",
       "    </tr>\n",
       "  </tbody>\n",
       "</table>\n",
       "</div>"
      ],
      "text/plain": [
       "       SquareFeet  Bedrooms  Bathrooms  Neighborhood  YearBuilt\n",
       "37174        2714         4          1             1       1969\n",
       "29950        1333         2          2             0       1997\n",
       "49833        2542         5          2             1       1969"
      ]
     },
     "execution_count": 14,
     "metadata": {},
     "output_type": "execute_result"
    }
   ],
   "source": [
    "X_train.head(3)"
   ]
  },
  {
   "cell_type": "code",
   "execution_count": 15,
   "metadata": {},
   "outputs": [
    {
     "data": {
      "text/plain": [
       "37174    318386.661622\n",
       "29950    105783.099392\n",
       "49833    245920.448070\n",
       "Name: Price, dtype: float64"
      ]
     },
     "execution_count": 15,
     "metadata": {},
     "output_type": "execute_result"
    }
   ],
   "source": [
    "y_train.head(3)"
   ]
  },
  {
   "cell_type": "code",
   "execution_count": 16,
   "metadata": {},
   "outputs": [
    {
     "name": "stdout",
     "output_type": "stream",
     "text": [
      "<class 'pandas.core.series.Series'>\n",
      "Index: 40000 entries, 37174 to 27439\n",
      "Series name: Price\n",
      "Non-Null Count  Dtype  \n",
      "--------------  -----  \n",
      "40000 non-null  float64\n",
      "dtypes: float64(1)\n",
      "memory usage: 625.0 KB\n"
     ]
    }
   ],
   "source": [
    "y_train.info()"
   ]
  },
  {
   "cell_type": "code",
   "execution_count": 17,
   "metadata": {},
   "outputs": [],
   "source": [
    "models = [\n",
    "    LinearRegression(),\n",
    "    Lasso(random_state=1234),\n",
    "    RandomForestRegressor(random_state=1234),\n",
    "    GradientBoostingRegressor(random_state=1234),\n",
    "    KNeighborsRegressor(),\n",
    "    XGBRegressor(random_state=1234)\n",
    "]"
   ]
  },
  {
   "cell_type": "code",
   "execution_count": 18,
   "metadata": {},
   "outputs": [
    {
     "name": "stdout",
     "output_type": "stream",
     "text": [
      "    LinearRegression\n",
      "    R2_score: 0.5692    |    RMSE: 49972.695984\n",
      "============================================================\n",
      "    Lasso\n",
      "    R2_score: 0.5692    |    RMSE: 49972.709112\n",
      "============================================================\n",
      "    RandomForestRegressor\n",
      "    R2_score: 0.515    |    RMSE: 53024.117267\n",
      "============================================================\n",
      "    GradientBoostingRegressor\n",
      "    R2_score: 0.5683    |    RMSE: 50025.627991\n",
      "============================================================\n",
      "    KNeighborsRegressor\n",
      "    R2_score: 0.4745    |    RMSE: 55194.735955\n",
      "============================================================\n",
      "    XGBRegressor\n",
      "    R2_score: 0.5537    |    RMSE: 50864.618765\n",
      "============================================================\n",
      "\n",
      "Best Model : LinearRegression \n",
      "    R2_score: 0.5692276886706162    |    RMSE: 49972.695984341706\n"
     ]
    }
   ],
   "source": [
    "# best model 찾기\n",
    "best_loss = None\n",
    "best_model = None\n",
    "best_score = None\n",
    "\n",
    "for model in models:\n",
    "    model.fit(X_train, y_train)\n",
    "    y_pred = model.predict(X_test)\n",
    "\n",
    "    r2 = r2_score(y_test, y_pred)\n",
    "    rmse = mean_squared_error(y_test, y_pred, squared=False)\n",
    "    print(f'    {model.__class__.__name__}')\n",
    "    print(f'    R2_score: {round(r2, 4)}    |    RMSE: {round(rmse, 6)}')\n",
    "    print('=' * 60)\n",
    "\n",
    "    if best_loss != None:\n",
    "        if best_score < r2:\n",
    "            best_model = model\n",
    "            best_score = r2\n",
    "            best_loss = rmse\n",
    "\n",
    "    else:\n",
    "        best_model = model\n",
    "        best_score = r2\n",
    "        best_loss = rmse\n",
    "\n",
    "print(f'\\nBest Model : {best_model.__class__.__name__} \\n    R2_score: {best_score}    |    RMSE: {best_loss}')"
   ]
  },
  {
   "cell_type": "code",
   "execution_count": null,
   "metadata": {},
   "outputs": [],
   "source": [
    "# 개별로 학습\n",
    "# model = RandomForestRegressor()\n",
    "# model.fit(X_train, y_train)\n",
    "# y_pred = model.predict(X_test)\n",
    "\n",
    "# 성능 평가 결과 (r2, rmse)\n",
    "# r2 = r2_score(y_test, y_pred)\n",
    "# rmse = mean_squared_error(y_test, y_pred, squared=False)\n",
    "# print('R2_score: ', r2)\n",
    "# print('RMSE:     ', rmse)"
   ]
  },
  {
   "cell_type": "markdown",
   "metadata": {},
   "source": [
    "## 5. 결과 확인"
   ]
  },
  {
   "cell_type": "code",
   "execution_count": 19,
   "metadata": {},
   "outputs": [
    {
     "name": "stdout",
     "output_type": "stream",
     "text": [
      "R2_score:  0.5692276886706162\n",
      "RMSE:      49972.695984341706\n"
     ]
    }
   ],
   "source": [
    "# best model 기준 예측값 저장\n",
    "best_model.fit(X_train, y_train)\n",
    "y_pred = best_model.predict(X_test)\n",
    "\n",
    "# 성능 평가 결과 (r2, rmse)\n",
    "r2 = r2_score(y_test, y_pred)\n",
    "rmse = mean_squared_error(y_test, y_pred, squared=False)\n",
    "print('R2_score: ', r2)\n",
    "print('RMSE:     ', rmse)\n",
    "\n",
    "# 예측값 저장\n",
    "predict = pd.DataFrame({\n",
    "    'Neighborhood': X_test['Neighborhood'],\n",
    "    'Price': y_pred\n",
    "})"
   ]
  },
  {
   "cell_type": "code",
   "execution_count": 20,
   "metadata": {},
   "outputs": [
    {
     "data": {
      "text/plain": [
       "(10000, 2)"
      ]
     },
     "execution_count": 20,
     "metadata": {},
     "output_type": "execute_result"
    }
   ],
   "source": [
    "predict.shape"
   ]
  },
  {
   "cell_type": "code",
   "execution_count": 21,
   "metadata": {},
   "outputs": [
    {
     "data": {
      "text/html": [
       "<div>\n",
       "<style scoped>\n",
       "    .dataframe tbody tr th:only-of-type {\n",
       "        vertical-align: middle;\n",
       "    }\n",
       "\n",
       "    .dataframe tbody tr th {\n",
       "        vertical-align: top;\n",
       "    }\n",
       "\n",
       "    .dataframe thead th {\n",
       "        text-align: right;\n",
       "    }\n",
       "</style>\n",
       "<table border=\"1\" class=\"dataframe\">\n",
       "  <thead>\n",
       "    <tr style=\"text-align: right;\">\n",
       "      <th></th>\n",
       "      <th>Neighborhood</th>\n",
       "      <th>Price</th>\n",
       "    </tr>\n",
       "  </thead>\n",
       "  <tbody>\n",
       "    <tr>\n",
       "      <th>20308</th>\n",
       "      <td>0</td>\n",
       "      <td>269752.578805</td>\n",
       "    </tr>\n",
       "    <tr>\n",
       "      <th>37706</th>\n",
       "      <td>1</td>\n",
       "      <td>226515.920428</td>\n",
       "    </tr>\n",
       "    <tr>\n",
       "      <th>6041</th>\n",
       "      <td>1</td>\n",
       "      <td>187048.154447</td>\n",
       "    </tr>\n",
       "    <tr>\n",
       "      <th>42143</th>\n",
       "      <td>0</td>\n",
       "      <td>307241.385607</td>\n",
       "    </tr>\n",
       "    <tr>\n",
       "      <th>23202</th>\n",
       "      <td>0</td>\n",
       "      <td>256379.404406</td>\n",
       "    </tr>\n",
       "  </tbody>\n",
       "</table>\n",
       "</div>"
      ],
      "text/plain": [
       "       Neighborhood          Price\n",
       "20308             0  269752.578805\n",
       "37706             1  226515.920428\n",
       "6041              1  187048.154447\n",
       "42143             0  307241.385607\n",
       "23202             0  256379.404406"
      ]
     },
     "execution_count": 21,
     "metadata": {},
     "output_type": "execute_result"
    }
   ],
   "source": [
    "predict.head()"
   ]
  },
  {
   "cell_type": "markdown",
   "metadata": {},
   "source": [
    "### Appendix. 예측결과(연속형) 값과 비교"
   ]
  },
  {
   "cell_type": "code",
   "execution_count": 22,
   "metadata": {},
   "outputs": [],
   "source": [
    "# X_train 데이터셋의 y_train값 평균\n",
    "train_mean_price = pd.DataFrame([X_train['Neighborhood'], y_train])\n",
    "train_mean_price = train_mean_price.T\n",
    "train_mean_price['Neighborhood']=train_mean_price['Neighborhood'].astype('int64')\n",
    "\n",
    "# X_test 데이터셋의 y_test값 평균 \n",
    "xtest_mean_price = pd.DataFrame([X_test['Neighborhood'], y_test])\n",
    "xtest_mean_price = xtest_mean_price.T\n",
    "xtest_mean_price['Neighborhood']=xtest_mean_price['Neighborhood'].astype('int64')\n",
    "\n",
    "# 학습데이터 주택 가격 (X_train, y_train)\n",
    "train_mean_price = pd.DataFrame(train_mean_price.groupby('Neighborhood')['Price'].mean())\n",
    "# 테스트데이터 주택 가격 (X_test, y_test)\n",
    "xtest_mean_price = pd.DataFrame(xtest_mean_price.groupby('Neighborhood')['Price'].mean())\n",
    "# 예측한 주택 가격 (X_test, y_pred)\n",
    "pred_df = pd.DataFrame(predict.groupby('Neighborhood')['Price'].mean())\n",
    "\n",
    "# 가격 차이 (y_train - y_pred = price_difference_1, y_test-y_pred =  price_difference_2)\n",
    "price_difference_0 = []\n",
    "price_difference_1 = []\n",
    "price_difference_2 = []\n",
    "for i in range(len(train_mean_price+1)):\n",
    "    price0 = train_mean_price['Price'][i] - xtest_mean_price['Price'][i]\n",
    "    price1 = train_mean_price['Price'][i] - pred_df['Price'][i]\n",
    "    price2 = xtest_mean_price['Price'][i] - pred_df['Price'][i]\n",
    "    price_difference_0.append(price0)\n",
    "    price_difference_1.append(price1)\n",
    "    price_difference_2.append(price2)\n",
    "price_difference_0 = pd.DataFrame(price_difference_0)\n",
    "price_difference_1 = pd.DataFrame(price_difference_1)\n",
    "price_difference_2 = pd.DataFrame(price_difference_2)\n",
    "\n",
    "# 하나의 데이터프레임으로 결과 비교해보기\n",
    "result_df = pd.concat([train_mean_price, xtest_mean_price, pred_df, price_difference_0, price_difference_1, price_difference_2], axis=1).reset_index()\n",
    "result_df.columns = ['Neighborhood', 'Train Price', 'Test Price', 'Predict Price', 'Train-Test', 'Train-Predict', 'Test-Predict']\n",
    "result_df['Neighborhood']=result_df['Neighborhood'].replace({0: 'Rural', 1: 'Suburb', 2: 'Urban'})"
   ]
  },
  {
   "cell_type": "markdown",
   "metadata": {},
   "source": [
    "> ### 도시 유형(Neighborhood) 기준으로 평균 주택 가격 평균을 냈을 때\n",
    "- Train Price(y_train) 학습 데이터 주택가격\n",
    "- Test Price(y_test) 테스트 데이터 주택가격\n",
    "- Predict Price(y_pred) 학습 데이터 기반 예측 결과\n",
    "- Train-Test 원래 있던 50,000개 데이터를 나눠서 40,000개(X_train)과 10,000개(X_test)의 차이\n",
    "- Train-Predict 머신러닝 학습(x_train, y_train) 후 예측한 결과(x_test, y_pred)의 차이\n",
    "- Test-Predict 같은 데이터(X_test)의 원가격(정답, y_test)과 예측값(y_pred) 비교했을 때 차이 <br>"
   ]
  },
  {
   "cell_type": "code",
   "execution_count": 23,
   "metadata": {},
   "outputs": [
    {
     "data": {
      "text/html": [
       "<div>\n",
       "<style scoped>\n",
       "    .dataframe tbody tr th:only-of-type {\n",
       "        vertical-align: middle;\n",
       "    }\n",
       "\n",
       "    .dataframe tbody tr th {\n",
       "        vertical-align: top;\n",
       "    }\n",
       "\n",
       "    .dataframe thead th {\n",
       "        text-align: right;\n",
       "    }\n",
       "</style>\n",
       "<table border=\"1\" class=\"dataframe\">\n",
       "  <thead>\n",
       "    <tr style=\"text-align: right;\">\n",
       "      <th></th>\n",
       "      <th>Neighborhood</th>\n",
       "      <th>Train Price</th>\n",
       "      <th>Test Price</th>\n",
       "      <th>Predict Price</th>\n",
       "      <th>Train-Test</th>\n",
       "      <th>Train-Predict</th>\n",
       "      <th>Test-Predict</th>\n",
       "    </tr>\n",
       "  </thead>\n",
       "  <tbody>\n",
       "    <tr>\n",
       "      <th>0</th>\n",
       "      <td>Rural</td>\n",
       "      <td>224033.079095</td>\n",
       "      <td>224355.486592</td>\n",
       "      <td>223576.574069</td>\n",
       "      <td>-322.407497</td>\n",
       "      <td>456.505026</td>\n",
       "      <td>778.912523</td>\n",
       "    </tr>\n",
       "    <tr>\n",
       "      <th>1</th>\n",
       "      <td>Suburb</td>\n",
       "      <td>223477.215290</td>\n",
       "      <td>222283.434954</td>\n",
       "      <td>222341.663788</td>\n",
       "      <td>1193.780336</td>\n",
       "      <td>1135.551503</td>\n",
       "      <td>-58.228834</td>\n",
       "    </tr>\n",
       "    <tr>\n",
       "      <th>2</th>\n",
       "      <td>Urban</td>\n",
       "      <td>227249.379884</td>\n",
       "      <td>226835.262010</td>\n",
       "      <td>224942.849065</td>\n",
       "      <td>414.117874</td>\n",
       "      <td>2306.530819</td>\n",
       "      <td>1892.412945</td>\n",
       "    </tr>\n",
       "  </tbody>\n",
       "</table>\n",
       "</div>"
      ],
      "text/plain": [
       "  Neighborhood    Train Price     Test Price  Predict Price   Train-Test  \\\n",
       "0        Rural  224033.079095  224355.486592  223576.574069  -322.407497   \n",
       "1       Suburb  223477.215290  222283.434954  222341.663788  1193.780336   \n",
       "2        Urban  227249.379884  226835.262010  224942.849065   414.117874   \n",
       "\n",
       "   Train-Predict  Test-Predict  \n",
       "0     456.505026    778.912523  \n",
       "1    1135.551503    -58.228834  \n",
       "2    2306.530819   1892.412945  "
      ]
     },
     "execution_count": 23,
     "metadata": {},
     "output_type": "execute_result"
    }
   ],
   "source": [
    "result_df"
   ]
  }
 ],
 "metadata": {
  "kernelspec": {
   "display_name": "study",
   "language": "python",
   "name": "python3"
  },
  "language_info": {
   "codemirror_mode": {
    "name": "ipython",
    "version": 3
   },
   "file_extension": ".py",
   "mimetype": "text/x-python",
   "name": "python",
   "nbconvert_exporter": "python",
   "pygments_lexer": "ipython3",
   "version": "3.12.0"
  }
 },
 "nbformat": 4,
 "nbformat_minor": 2
}
